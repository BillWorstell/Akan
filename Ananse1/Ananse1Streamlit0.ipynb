{
  "cells": [
    {
      "cell_type": "markdown",
      "metadata": {
        "id": "view-in-github",
        "colab_type": "text"
      },
      "source": [
        "<a href=\"https://colab.research.google.com/github/BillWorstell/Akan/blob/main/Ananse1/Ananse1Streamlit0.ipynb\" target=\"_parent\"><img src=\"https://colab.research.google.com/assets/colab-badge.svg\" alt=\"Open In Colab\"/></a>"
      ]
    },
    {
      "cell_type": "markdown",
      "metadata": {
        "id": "6P9ALhEZGCht"
      },
      "source": [
        "You can create a simple interactive GUI in Python using Streamlit, a lightweight library that's perfect for deploying applications quickly, including on Google Colab. Streamlit will allow you to integrate text, images, and interact with GPT-4 API, all from a single interface with a friendly user experience.\n",
        "\n",
        "Here’s how you can set up this interactive folklore exploration tool in Streamlit. The following code includes a GUI where users can explore the dilemmas, see paired stories, and interact with a GPT-4 API for deeper analysis or explanation of each tale. We’ll also add options for adaptive user control and seamless integration with GitHub for version tracking.\n",
        "\n",
        "###Steps to Create and Deploy the Demo App\n",
        "* Install Streamlit and other required libraries.\n",
        "* Build the Streamlit GUI with options for choosing dilemmas and displaying the story pairs.\n",
        "* Integrate GPT-4 API for analysis and interpretation.\n",
        "* Deploy the app on Google Colab and save it to GitHub\n",
        "\n",
        "#1. Install Streamlit and Required Libraries\n",
        "In Google Colab, install Streamlit, requests (for API calls), and ngrok (for hosting the Streamlit app)."
      ]
    },
    {
      "cell_type": "code",
      "execution_count": null,
      "metadata": {
        "colab": {
          "base_uri": "https://localhost:8080/"
        },
        "id": "-tHbZwSoHzuR",
        "outputId": "53657b56-2cd2-4794-db2d-3d7b78ac5782"
      },
      "outputs": [
        {
          "output_type": "stream",
          "name": "stdout",
          "text": [
            "Requirement already satisfied: streamlit in /usr/local/lib/python3.10/dist-packages (1.41.1)\n",
            "Requirement already satisfied: requests in /usr/local/lib/python3.10/dist-packages (2.32.3)\n",
            "Requirement already satisfied: pyngrok in /usr/local/lib/python3.10/dist-packages (7.2.2)\n",
            "Requirement already satisfied: altair<6,>=4.0 in /usr/local/lib/python3.10/dist-packages (from streamlit) (5.5.0)\n",
            "Requirement already satisfied: blinker<2,>=1.0.0 in /usr/local/lib/python3.10/dist-packages (from streamlit) (1.9.0)\n",
            "Requirement already satisfied: cachetools<6,>=4.0 in /usr/local/lib/python3.10/dist-packages (from streamlit) (5.5.0)\n",
            "Requirement already satisfied: click<9,>=7.0 in /usr/local/lib/python3.10/dist-packages (from streamlit) (8.1.7)\n",
            "Requirement already satisfied: numpy<3,>=1.23 in /usr/local/lib/python3.10/dist-packages (from streamlit) (1.26.4)\n",
            "Requirement already satisfied: packaging<25,>=20 in /usr/local/lib/python3.10/dist-packages (from streamlit) (24.2)\n",
            "Requirement already satisfied: pandas<3,>=1.4.0 in /usr/local/lib/python3.10/dist-packages (from streamlit) (2.2.2)\n",
            "Requirement already satisfied: pillow<12,>=7.1.0 in /usr/local/lib/python3.10/dist-packages (from streamlit) (11.0.0)\n",
            "Requirement already satisfied: protobuf<6,>=3.20 in /usr/local/lib/python3.10/dist-packages (from streamlit) (4.25.5)\n",
            "Requirement already satisfied: pyarrow>=7.0 in /usr/local/lib/python3.10/dist-packages (from streamlit) (17.0.0)\n",
            "Requirement already satisfied: rich<14,>=10.14.0 in /usr/local/lib/python3.10/dist-packages (from streamlit) (13.9.4)\n",
            "Requirement already satisfied: tenacity<10,>=8.1.0 in /usr/local/lib/python3.10/dist-packages (from streamlit) (9.0.0)\n",
            "Requirement already satisfied: toml<2,>=0.10.1 in /usr/local/lib/python3.10/dist-packages (from streamlit) (0.10.2)\n",
            "Requirement already satisfied: typing-extensions<5,>=4.3.0 in /usr/local/lib/python3.10/dist-packages (from streamlit) (4.12.2)\n",
            "Requirement already satisfied: watchdog<7,>=2.1.5 in /usr/local/lib/python3.10/dist-packages (from streamlit) (6.0.0)\n",
            "Requirement already satisfied: gitpython!=3.1.19,<4,>=3.0.7 in /usr/local/lib/python3.10/dist-packages (from streamlit) (3.1.43)\n",
            "Requirement already satisfied: pydeck<1,>=0.8.0b4 in /usr/local/lib/python3.10/dist-packages (from streamlit) (0.9.1)\n",
            "Requirement already satisfied: tornado<7,>=6.0.3 in /usr/local/lib/python3.10/dist-packages (from streamlit) (6.3.3)\n",
            "Requirement already satisfied: charset-normalizer<4,>=2 in /usr/local/lib/python3.10/dist-packages (from requests) (3.4.0)\n",
            "Requirement already satisfied: idna<4,>=2.5 in /usr/local/lib/python3.10/dist-packages (from requests) (3.10)\n",
            "Requirement already satisfied: urllib3<3,>=1.21.1 in /usr/local/lib/python3.10/dist-packages (from requests) (2.2.3)\n",
            "Requirement already satisfied: certifi>=2017.4.17 in /usr/local/lib/python3.10/dist-packages (from requests) (2024.8.30)\n",
            "Requirement already satisfied: PyYAML>=5.1 in /usr/local/lib/python3.10/dist-packages (from pyngrok) (6.0.2)\n",
            "Requirement already satisfied: jinja2 in /usr/local/lib/python3.10/dist-packages (from altair<6,>=4.0->streamlit) (3.1.4)\n",
            "Requirement already satisfied: jsonschema>=3.0 in /usr/local/lib/python3.10/dist-packages (from altair<6,>=4.0->streamlit) (4.23.0)\n",
            "Requirement already satisfied: narwhals>=1.14.2 in /usr/local/lib/python3.10/dist-packages (from altair<6,>=4.0->streamlit) (1.18.2)\n",
            "Requirement already satisfied: gitdb<5,>=4.0.1 in /usr/local/lib/python3.10/dist-packages (from gitpython!=3.1.19,<4,>=3.0.7->streamlit) (4.0.11)\n",
            "Requirement already satisfied: python-dateutil>=2.8.2 in /usr/local/lib/python3.10/dist-packages (from pandas<3,>=1.4.0->streamlit) (2.8.2)\n",
            "Requirement already satisfied: pytz>=2020.1 in /usr/local/lib/python3.10/dist-packages (from pandas<3,>=1.4.0->streamlit) (2024.2)\n",
            "Requirement already satisfied: tzdata>=2022.7 in /usr/local/lib/python3.10/dist-packages (from pandas<3,>=1.4.0->streamlit) (2024.2)\n",
            "Requirement already satisfied: markdown-it-py>=2.2.0 in /usr/local/lib/python3.10/dist-packages (from rich<14,>=10.14.0->streamlit) (3.0.0)\n",
            "Requirement already satisfied: pygments<3.0.0,>=2.13.0 in /usr/local/lib/python3.10/dist-packages (from rich<14,>=10.14.0->streamlit) (2.18.0)\n",
            "Requirement already satisfied: smmap<6,>=3.0.1 in /usr/local/lib/python3.10/dist-packages (from gitdb<5,>=4.0.1->gitpython!=3.1.19,<4,>=3.0.7->streamlit) (5.0.1)\n",
            "Requirement already satisfied: MarkupSafe>=2.0 in /usr/local/lib/python3.10/dist-packages (from jinja2->altair<6,>=4.0->streamlit) (3.0.2)\n",
            "Requirement already satisfied: attrs>=22.2.0 in /usr/local/lib/python3.10/dist-packages (from jsonschema>=3.0->altair<6,>=4.0->streamlit) (24.2.0)\n",
            "Requirement already satisfied: jsonschema-specifications>=2023.03.6 in /usr/local/lib/python3.10/dist-packages (from jsonschema>=3.0->altair<6,>=4.0->streamlit) (2024.10.1)\n",
            "Requirement already satisfied: referencing>=0.28.4 in /usr/local/lib/python3.10/dist-packages (from jsonschema>=3.0->altair<6,>=4.0->streamlit) (0.35.1)\n",
            "Requirement already satisfied: rpds-py>=0.7.1 in /usr/local/lib/python3.10/dist-packages (from jsonschema>=3.0->altair<6,>=4.0->streamlit) (0.22.3)\n",
            "Requirement already satisfied: mdurl~=0.1 in /usr/local/lib/python3.10/dist-packages (from markdown-it-py>=2.2.0->rich<14,>=10.14.0->streamlit) (0.1.2)\n",
            "Requirement already satisfied: six>=1.5 in /usr/local/lib/python3.10/dist-packages (from python-dateutil>=2.8.2->pandas<3,>=1.4.0->streamlit) (1.17.0)\n"
          ]
        }
      ],
      "source": [
        "!pip install streamlit requests pyngrok"
      ]
    },
    {
      "cell_type": "markdown",
      "metadata": {
        "id": "LJod2gD4t8DA"
      },
      "source": [
        "###2. **Set Up the Ngrok Authentication Token**\n",
        "Replace \"your_authtoken\" with your actual ngrok token in the following cell."
      ]
    },
    {
      "cell_type": "code",
      "execution_count": null,
      "metadata": {
        "colab": {
          "base_uri": "https://localhost:8080/"
        },
        "id": "OCxIvKQ8uW9w",
        "outputId": "86026306-a473-4cc2-e4c6-0dbbed964cde"
      },
      "outputs": [
        {
          "output_type": "stream",
          "name": "stdout",
          "text": [
            "Authtoken saved to configuration file: /root/.config/ngrok/ngrok.yml\n",
            "Authtoken saved to configuration file: /root/.config/ngrok/ngrok.yml\n"
          ]
        }
      ],
      "source": [
        "#!ngrok config add-authtoken \"your_authtoken\"\n",
        "#!ngrok authtoken \"your_authtoken\"\n",
        "!ngrok config add-authtoken \"2ol9K0GNdjTzB2GrP2i2LES3WVu_EDz1dLjEE5YJ2yMjXAob\"\n",
        "!ngrok authtoken \"2ol9K0GNdjTzB2GrP2i2LES3WVu_EDz1dLjEE5YJ2yMjXAob\"\n"
      ]
    },
    {
      "cell_type": "markdown",
      "metadata": {
        "id": "N7xcmsqTNUI7"
      },
      "source": [
        "###3. **Mount Google drive for Excel Databases**\n",
        "Mount to /content/drive"
      ]
    },
    {
      "cell_type": "code",
      "execution_count": null,
      "metadata": {
        "id": "xo9jtvOHNUwK"
      },
      "outputs": [],
      "source": [
        "#from google.colab import drive\n",
        "#drive.mount('/content/drive')"
      ]
    },
    {
      "cell_type": "markdown",
      "metadata": {
        "id": "aRpX9D1oIEgY"
      },
      "source": [
        "###4. **Save Your Streamlit App Code in app.py**\n",
        "In a new Colab cell, copy your Streamlit app code and save it as app.py:"
      ]
    },
    {
      "cell_type": "code",
      "execution_count": null,
      "metadata": {
        "id": "Gl65C_pubFq2"
      },
      "outputs": [],
      "source": [
        "code = \"\"\"\n",
        "# Import required libraries\n",
        "import pandas as pd\n",
        "\n",
        "import spacy\n",
        "from IPython.display import display, HTML\n",
        "import streamlit as st\n",
        "import requests\n",
        "\n",
        "# Load the English NLP model\n",
        "nlp = spacy.load(\"en_core_web_sm\")\n",
        "\n",
        "# Define a dictionary for styling based on POS tags\n",
        "styling_rules = {\n",
        "    \"NOUN\": {\"color\": \"blue\", \"bold\": True},       # Nouns\n",
        "    \"PRON\": {\"color\": \"purple\", \"italic\": True},   # Pronouns\n",
        "    \"VERB\": {\"color\": \"green\", \"underline\": True}, # Verbs\n",
        "    \"ADV\": {\"color\": \"orange\"},                   # Adverbs\n",
        "    \"CONJ\": {\"color\": \"red\", \"bold\": True},        # Conjunctions\n",
        "    \"ADP\": {\"color\": \"cyan\"},                     # Prepositions\n",
        "    \"DET\": {\"color\": \"gray\", \"italic\": True},     # Articles\n",
        "    \"PUNCT\": {\"color\": \"black\"},                 # Punctuation\n",
        "    \"TEXT\": {\"color\": \"brown\", \"font_name\": \"Courier New\"} # Direct Speech\n",
        "}\n",
        "\n",
        "# Function to apply styling\n",
        "def style_sentence(sentence):\n",
        "    # Process the sentence with spaCy\n",
        "    doc = nlp(sentence)\n",
        "    styled_words = []\n",
        "\n",
        "    for token in doc:\n",
        "        # Get styling rules based on token POS\n",
        "        style = styling_rules.get(token.pos_, {\"color\": \"black\"})\n",
        "        color = style.get(\"color\", \"black\")\n",
        "        bold = \"font-weight:bold;\" if style.get(\"bold\", False) else \"\"\n",
        "        italic = \"font-style:italic;\" if style.get(\"italic\", False) else \"\"\n",
        "        underline = \"text-decoration:underline;\" if style.get(\"underline\", False) else \"\"\n",
        "        font = f\"font-family:{style.get('font_name', 'Arial')};\"\n",
        "\n",
        "        # Create styled HTML for the word\n",
        "        styled_word = f\"<span style='color:{color}; {bold} {italic} {underline} {font}'>{token.text}</span>\"\n",
        "        styled_words.append(styled_word)\n",
        "\n",
        "    # Combine styled words into a single HTML string\n",
        "    return \" \".join(styled_words)\n",
        "\n",
        "## Example sentence\n",
        "#sentence = \"Ananse told his wife, Ya Nsia, 'Rise, let us go and retrieve the Sky God's stories.'\"\n",
        "#styled_sentence = style_sentence(sentence)\n",
        "\n",
        "## Display the styled sentence in HTML\n",
        "#display(HTML(f\"<div style='font-family:Arial; font-size:16px;'>{styled_sentence}</div>\"))\n",
        "\n",
        "# Function to transfer POS styling from AtoE to Akan\n",
        "def transfer_style(akan_sentence, atoe_sentence):\n",
        "    # Process the AtoE sentence with spaCy to get POS tags\n",
        "    doc = nlp(atoe_sentence)\n",
        "    atoe_words = [token.text for token in doc]\n",
        "    pos_tags = [token.pos_ for token in doc]\n",
        "\n",
        "    # Split Akan sentence into words\n",
        "    akan_words = akan_sentence.split()\n",
        "\n",
        "    # Ensure word counts match (basic alignment)\n",
        "    if len(akan_words) < len(atoe_words):\n",
        "      atoe_words = atoe_words[:len(akan_words)]\n",
        "    elif len(akan_words) > len(atoe_words):\n",
        "      akan_words = akan_words[:len(atoe_words)]\n",
        "\n",
        "    if len(akan_words) != len(atoe_words):\n",
        "      return f\"<span style='color:red;'>Error: Word count mismatch between Akan and AtoE</span>\"\n",
        "\n",
        "    # Apply styles from AtoE POS tags to Akan words\n",
        "    styled_words = []\n",
        "    for word, pos in zip(akan_words, pos_tags):\n",
        "        style = styling_rules.get(pos, {\"color\": \"black\"})  # Default to black if no rule\n",
        "        color = style.get(\"color\", \"black\")\n",
        "        bold = \"font-weight:bold;\" if style.get(\"bold\", False) else \"\"\n",
        "        italic = \"font-style:italic;\" if style.get(\"italic\", False) else \"\"\n",
        "        underline = \"text-decoration:underline;\" if style.get(\"underline\", False) else \"\"\n",
        "        font = f\"font-family:{style.get('font_name', 'Arial')};\"\n",
        "\n",
        "        # Create styled HTML for the word\n",
        "        styled_word = f\"<span style='color:{color}; {bold} {italic} {underline} {font}'>{word}</span>\"\n",
        "        styled_words.append(styled_word)\n",
        "\n",
        "    # Combine styled words into a single HTML string\n",
        "    return \" \".join(styled_words)\n",
        "#\n",
        "####################\n",
        "#\n",
        "# OpenAI API Key (replace with your key)\n",
        "# OPENAI_API_KEY =\n",
        "#\n",
        "####################\n",
        "#\n",
        "# Define Pointers for each column\n",
        "StoryLevel = {\n",
        "  \"Level\": ['Learned','Learned Layman','Layman','Simple Layman','Simple','Simple Preschool','Preschool','PrePreschool'],\n",
        "}\n",
        "\n",
        "# Streamlit app setup\n",
        "st.title(\"HOW KWAKU ANANSE (THE SPIDER) GOT ASO IN MARRIAGE\")\n",
        "\n",
        "# URL of the raw Excel file in the GitHub repository\n",
        "url_Story = \"https://raw.githubusercontent.com/BillWorstell/Akan/main/Ananse1/Ananse1.xlsx\"\n",
        "\n",
        "# Create an ExcelFile object\n",
        "story_file = pd.ExcelFile(url_Story, engine=\"openpyxl\")\n",
        "\n",
        "# Dictionary to store the number of rows for each worksheet\n",
        "worksheet_row_counts = {}\n",
        "\n",
        "# Loop through all sheet names\n",
        "for sheet_name in story_file.sheet_names:\n",
        "    # Read the current sheet into a DataFrame\n",
        "    df = story_file.parse(sheet_name)\n",
        "    # Get the number of rows in the current sheet\n",
        "    num_rows = df.shape[0]\n",
        "    # Store the row count in the dictionary\n",
        "    worksheet_row_counts[sheet_name] = num_rows\n",
        "\n",
        "# Sidebar integration\n",
        "with st.sidebar:\n",
        "    st.header(\"Story= Ananse1\")\n",
        "\n",
        "    # User selects Level options\n",
        "    #st.subheader(\"Level Selection\")\n",
        "    level_choice = st.selectbox(\"Story Level\", StoryLevel[\"Level\"])\n",
        "    #st.write(\"[\", level_choice, \"]\")\n",
        "\n",
        "    # User selects Sentence\n",
        "    NSentences= worksheet_row_counts[level_choice]\n",
        "    #st.write(\"Number of Sentences: \", NSentences)\n",
        "\n",
        "    sentence = st.slider(\"Sentence Number?\", 0, NSentences, 0)\n",
        "    st.write(\"[\", sentence, \"]\")\n",
        "\n",
        "\n",
        "# Load Excel file\n",
        "story_data = story_file.parse(level_choice)\n",
        "\n",
        "# Main section split into three columns\n",
        "col1, col2, col3 = st.columns(3)\n",
        "\n",
        "# Populate Column 1\n",
        "with col1:\n",
        "    st.write(\"### Akan\")\n",
        "    st.write(story_data.iloc[sentence, 0])\n",
        "    akan_sentence = story_data.iloc[sentence, 0]  # Akan sentence\n",
        "    atoe_sentence = story_data.iloc[sentence, 2]  # Corresponding AtoE sentence\n",
        "    styled_akan = transfer_style(akan_sentence, atoe_sentence)  # Transfer styles\n",
        "    st.markdown(styled_akan, unsafe_allow_html=True)  # Render styled Akan sentence\n",
        "\n",
        "# Populate Column 2\n",
        "with col2:\n",
        "    st.write(\"### AtoE\")\n",
        "    st.write(story_data.iloc[sentence, 2])\n",
        "    # Selected sentence\n",
        "    styled_sentence = style_sentence(story_data.iloc[sentence, 2])\n",
        "    # Render the styled sentence in Streamlit\n",
        "    st.markdown(styled_sentence, unsafe_allow_html=True)\n",
        "\n",
        "# Populate Column 3\n",
        "with col3:\n",
        "    st.write(\"### English\")\n",
        "    st.write(story_data.iloc[sentence, 1])\n",
        "    # Selected sentence\n",
        "    styled_sentence = style_sentence(story_data.iloc[sentence, 1])\n",
        "    # Render the styled sentence in Streamlit\n",
        "    st.markdown(styled_sentence, unsafe_allow_html=True)\n",
        "\n",
        "st.write(\"Enjoy folklore!\")\n",
        "\"\"\"\n",
        "\n",
        "with open(\"app.py\", \"w\") as file:\n",
        "    file.write(code)"
      ]
    },
    {
      "cell_type": "markdown",
      "metadata": {
        "id": "uTV66IIHRKPS"
      },
      "source": [
        "###Key Features:\n",
        "1. Independent Level Selection for Both Columns:\n",
        "\n",
        "* Each column (Column 1 and Column 2) has its own independent drop-downs in the sidebar.\n",
        "* Users can select different levels of Akan, AtoE, and English for comparison.\n",
        "2. Side-by-Side Display:\n",
        "\n",
        "* Both columns display the selected levels for Akan, AtoE, and English texts.\n",
        "* Useful for comparing different translation levels.\n",
        "3. Sidebar Organization:\n",
        "\n",
        "* Clearly separates settings for Column 1 and Column 2 to make selections intuitive.\n",
        "###Expected Output:\n",
        "* Sidebar: Allows level selection for both columns independently.\n",
        "* Main Display:\n",
        "** Column 1: Displays Akan, AtoE, and English texts as per Column 1 selections.\n",
        "** Column 2: Displays Akan, AtoE, and English texts as per Column 2 selections."
      ]
    },
    {
      "cell_type": "code",
      "execution_count": null,
      "metadata": {
        "id": "v6OA3IBMTCmm"
      },
      "outputs": [],
      "source": [
        "#!streamlit run /usr/local/lib/python3.10/dist-packages/colab_kernel_launcher.py"
      ]
    },
    {
      "cell_type": "markdown",
      "metadata": {
        "id": "KbnLEvC1v37I"
      },
      "source": [
        "### 4. **Run the Streamlit App and Create the Ngrok Tunnel**\n",
        "Now, run the following code to start the Streamlit app and create an ngrok tunnel to access it. Make sure only one instance of Streamlit is running to avoid conflicts."
      ]
    },
    {
      "cell_type": "code",
      "execution_count": null,
      "metadata": {
        "id": "u7pRaaxnxu4J",
        "colab": {
          "base_uri": "https://localhost:8080/"
        },
        "outputId": "8f50e710-22e0-4df6-d62b-c4d46923be31"
      },
      "outputs": [
        {
          "output_type": "execute_result",
          "data": {
            "text/plain": [
              "<Popen: returncode: None args: ['streamlit', 'run', 'app.py', '--server.port...>"
            ]
          },
          "metadata": {},
          "execution_count": 6
        }
      ],
      "source": [
        "import subprocess\n",
        "# Start Streamlit app on port 8501\n",
        "subprocess.Popen([\"streamlit\", \"run\", \"app.py\", \"--server.port\", \"8501\"])\n"
      ]
    },
    {
      "cell_type": "code",
      "execution_count": null,
      "metadata": {
        "id": "sBrV2lY0x3tQ",
        "colab": {
          "base_uri": "https://localhost:8080/"
        },
        "outputId": "a98e0bc5-b549-4e90-8a67-7f69c65e7fde"
      },
      "outputs": [
        {
          "output_type": "stream",
          "name": "stdout",
          "text": [
            "Access the Streamlit app at: NgrokTunnel: \"https://f610-34-80-134-134.ngrok-free.app\" -> \"http://localhost:8501\"\n"
          ]
        }
      ],
      "source": [
        "from pyngrok import ngrok\n",
        "\n",
        "# Start a single ngrok tunnel to port 8501\n",
        "url = ngrok.connect(8501)\n",
        "print(f\"Access the Streamlit app at: {url}\")\n"
      ]
    },
    {
      "cell_type": "markdown",
      "metadata": {
        "id": "-72bKwrgzR-0"
      },
      "source": [
        "###**Step 5: Confirm Streamlit is Running on Port 8501**\n",
        "To verify that the Streamlit app is accessible, run:"
      ]
    },
    {
      "cell_type": "code",
      "execution_count": null,
      "metadata": {
        "id": "u0dfqZL2zyXy",
        "colab": {
          "base_uri": "https://localhost:8080/"
        },
        "outputId": "4f9d8d50-49ac-47be-e1dd-af6f844b74da"
      },
      "outputs": [
        {
          "output_type": "stream",
          "name": "stdout",
          "text": [
            "HTTP/1.1 200 OK\r\n",
            "\u001b[1mServer\u001b[0m: TornadoServer/6.3.3\r\n",
            "\u001b[1mContent-Type\u001b[0m: text/html\r\n",
            "\u001b[1mDate\u001b[0m: Tue, 17 Dec 2024 22:14:20 GMT\r\n",
            "\u001b[1mAccept-Ranges\u001b[0m: bytes\r\n",
            "\u001b[1mEtag\u001b[0m: \"613d14f73999f92269138f7dbd22485081c10e3d5c489b103666443133746140b72bb3cb2f6d1bedcbc36d27862c97075cf91a6c552e6f2ad72acdb1faf46b6d\"\r\n",
            "\u001b[1mLast-Modified\u001b[0m: Tue, 17 Dec 2024 22:09:56 GMT\r\n",
            "\u001b[1mCache-Control\u001b[0m: no-cache\r\n",
            "\u001b[1mContent-Length\u001b[0m: 1837\r\n",
            "\u001b[1mVary\u001b[0m: Accept-Encoding\r\n",
            "\r\n"
          ]
        }
      ],
      "source": [
        "!curl -I http://localhost:8501\n"
      ]
    },
    {
      "cell_type": "markdown",
      "metadata": {
        "id": "ri6SF0JKz8o1"
      },
      "source": [
        "If Streamlit is running correctly, this command should show a response. If there’s an error, check if the Streamlit app has started correctly in the cell above.\n",
        "\n",
        "###**Important Notes:**\n",
        "\n",
        "*   Avoid running multiple cells that initiate ngrok simultaneously, as this will exceed the session limit.\n",
        "*   If you still face issues, go to the ngrok dashboard to terminate any active sessions before starting a new one in Colab.\n",
        "\n",
        "\n",
        "."
      ]
    }
  ],
  "metadata": {
    "colab": {
      "provenance": [],
      "authorship_tag": "ABX9TyPb+n6PAbJlxGpzsYxZmTm+",
      "include_colab_link": true
    },
    "kernelspec": {
      "display_name": "Python 3",
      "name": "python3"
    },
    "language_info": {
      "name": "python"
    }
  },
  "nbformat": 4,
  "nbformat_minor": 0
}