{
  "cells": [
    {
      "cell_type": "markdown",
      "metadata": {
        "id": "view-in-github",
        "colab_type": "text"
      },
      "source": [
        "<a href=\"https://colab.research.google.com/github/BillWorstell/Akan/blob/main/Ananse1/Ananse1Streamlit8.ipynb\" target=\"_parent\"><img src=\"https://colab.research.google.com/assets/colab-badge.svg\" alt=\"Open In Colab\"/></a>"
      ]
    },
    {
      "cell_type": "markdown",
      "metadata": {
        "id": "6P9ALhEZGCht"
      },
      "source": [
        "You can create a simple interactive GUI in Python using Streamlit, a lightweight library that's perfect for deploying applications quickly, including on Google Colab. Streamlit will allow you to integrate text, images, and interact with GPT-4 API, all from a single interface with a friendly user experience.\n",
        "\n",
        "Here’s how you can set up this interactive folklore exploration tool in Streamlit. The following code includes a GUI where users can explore the dilemmas, see paired stories, and interact with a GPT-4 API for deeper analysis or explanation of each tale. We’ll also add options for adaptive user control and seamless integration with GitHub for version tracking.\n",
        "\n",
        "###Steps to Create and Deploy the Demo App\n",
        "* Install Streamlit and other required libraries.\n",
        "* Build the Streamlit GUI with options for choosing dilemmas and displaying the story pairs.\n",
        "* Integrate GPT-4 API for analysis and interpretation.\n",
        "* Deploy the app on Google Colab and save it to GitHub\n",
        "\n",
        "#1. Install Streamlit and Required Libraries\n",
        "In Google Colab, install Streamlit, requests (for API calls), and ngrok (for hosting the Streamlit app)."
      ]
    },
    {
      "cell_type": "code",
      "execution_count": 1,
      "metadata": {
        "colab": {
          "base_uri": "https://localhost:8080/"
        },
        "id": "-tHbZwSoHzuR",
        "outputId": "a1079a56-9e63-4a20-d66b-8a7b7e3529b3"
      },
      "outputs": [
        {
          "output_type": "stream",
          "name": "stdout",
          "text": [
            "Collecting streamlit\n",
            "  Downloading streamlit-1.41.1-py2.py3-none-any.whl.metadata (8.5 kB)\n",
            "Requirement already satisfied: requests in /usr/local/lib/python3.10/dist-packages (2.32.3)\n",
            "Collecting pyngrok\n",
            "  Downloading pyngrok-7.2.2-py3-none-any.whl.metadata (8.4 kB)\n",
            "Requirement already satisfied: altair<6,>=4.0 in /usr/local/lib/python3.10/dist-packages (from streamlit) (5.5.0)\n",
            "Requirement already satisfied: blinker<2,>=1.0.0 in /usr/local/lib/python3.10/dist-packages (from streamlit) (1.9.0)\n",
            "Requirement already satisfied: cachetools<6,>=4.0 in /usr/local/lib/python3.10/dist-packages (from streamlit) (5.5.0)\n",
            "Requirement already satisfied: click<9,>=7.0 in /usr/local/lib/python3.10/dist-packages (from streamlit) (8.1.7)\n",
            "Requirement already satisfied: numpy<3,>=1.23 in /usr/local/lib/python3.10/dist-packages (from streamlit) (1.26.4)\n",
            "Requirement already satisfied: packaging<25,>=20 in /usr/local/lib/python3.10/dist-packages (from streamlit) (24.2)\n",
            "Requirement already satisfied: pandas<3,>=1.4.0 in /usr/local/lib/python3.10/dist-packages (from streamlit) (2.2.2)\n",
            "Requirement already satisfied: pillow<12,>=7.1.0 in /usr/local/lib/python3.10/dist-packages (from streamlit) (11.0.0)\n",
            "Requirement already satisfied: protobuf<6,>=3.20 in /usr/local/lib/python3.10/dist-packages (from streamlit) (4.25.5)\n",
            "Requirement already satisfied: pyarrow>=7.0 in /usr/local/lib/python3.10/dist-packages (from streamlit) (17.0.0)\n",
            "Requirement already satisfied: rich<14,>=10.14.0 in /usr/local/lib/python3.10/dist-packages (from streamlit) (13.9.4)\n",
            "Requirement already satisfied: tenacity<10,>=8.1.0 in /usr/local/lib/python3.10/dist-packages (from streamlit) (9.0.0)\n",
            "Requirement already satisfied: toml<2,>=0.10.1 in /usr/local/lib/python3.10/dist-packages (from streamlit) (0.10.2)\n",
            "Requirement already satisfied: typing-extensions<5,>=4.3.0 in /usr/local/lib/python3.10/dist-packages (from streamlit) (4.12.2)\n",
            "Collecting watchdog<7,>=2.1.5 (from streamlit)\n",
            "  Downloading watchdog-6.0.0-py3-none-manylinux2014_x86_64.whl.metadata (44 kB)\n",
            "\u001b[2K     \u001b[90m━━━━━━━━━━━━━━━━━━━━━━━━━━━━━━━━━━━━━━━━\u001b[0m \u001b[32m44.3/44.3 kB\u001b[0m \u001b[31m2.8 MB/s\u001b[0m eta \u001b[36m0:00:00\u001b[0m\n",
            "\u001b[?25hRequirement already satisfied: gitpython!=3.1.19,<4,>=3.0.7 in /usr/local/lib/python3.10/dist-packages (from streamlit) (3.1.43)\n",
            "Collecting pydeck<1,>=0.8.0b4 (from streamlit)\n",
            "  Downloading pydeck-0.9.1-py2.py3-none-any.whl.metadata (4.1 kB)\n",
            "Requirement already satisfied: tornado<7,>=6.0.3 in /usr/local/lib/python3.10/dist-packages (from streamlit) (6.3.3)\n",
            "Requirement already satisfied: charset-normalizer<4,>=2 in /usr/local/lib/python3.10/dist-packages (from requests) (3.4.0)\n",
            "Requirement already satisfied: idna<4,>=2.5 in /usr/local/lib/python3.10/dist-packages (from requests) (3.10)\n",
            "Requirement already satisfied: urllib3<3,>=1.21.1 in /usr/local/lib/python3.10/dist-packages (from requests) (2.2.3)\n",
            "Requirement already satisfied: certifi>=2017.4.17 in /usr/local/lib/python3.10/dist-packages (from requests) (2024.12.14)\n",
            "Requirement already satisfied: PyYAML>=5.1 in /usr/local/lib/python3.10/dist-packages (from pyngrok) (6.0.2)\n",
            "Requirement already satisfied: jinja2 in /usr/local/lib/python3.10/dist-packages (from altair<6,>=4.0->streamlit) (3.1.4)\n",
            "Requirement already satisfied: jsonschema>=3.0 in /usr/local/lib/python3.10/dist-packages (from altair<6,>=4.0->streamlit) (4.23.0)\n",
            "Requirement already satisfied: narwhals>=1.14.2 in /usr/local/lib/python3.10/dist-packages (from altair<6,>=4.0->streamlit) (1.18.4)\n",
            "Requirement already satisfied: gitdb<5,>=4.0.1 in /usr/local/lib/python3.10/dist-packages (from gitpython!=3.1.19,<4,>=3.0.7->streamlit) (4.0.11)\n",
            "Requirement already satisfied: python-dateutil>=2.8.2 in /usr/local/lib/python3.10/dist-packages (from pandas<3,>=1.4.0->streamlit) (2.8.2)\n",
            "Requirement already satisfied: pytz>=2020.1 in /usr/local/lib/python3.10/dist-packages (from pandas<3,>=1.4.0->streamlit) (2024.2)\n",
            "Requirement already satisfied: tzdata>=2022.7 in /usr/local/lib/python3.10/dist-packages (from pandas<3,>=1.4.0->streamlit) (2024.2)\n",
            "Requirement already satisfied: markdown-it-py>=2.2.0 in /usr/local/lib/python3.10/dist-packages (from rich<14,>=10.14.0->streamlit) (3.0.0)\n",
            "Requirement already satisfied: pygments<3.0.0,>=2.13.0 in /usr/local/lib/python3.10/dist-packages (from rich<14,>=10.14.0->streamlit) (2.18.0)\n",
            "Requirement already satisfied: smmap<6,>=3.0.1 in /usr/local/lib/python3.10/dist-packages (from gitdb<5,>=4.0.1->gitpython!=3.1.19,<4,>=3.0.7->streamlit) (5.0.1)\n",
            "Requirement already satisfied: MarkupSafe>=2.0 in /usr/local/lib/python3.10/dist-packages (from jinja2->altair<6,>=4.0->streamlit) (3.0.2)\n",
            "Requirement already satisfied: attrs>=22.2.0 in /usr/local/lib/python3.10/dist-packages (from jsonschema>=3.0->altair<6,>=4.0->streamlit) (24.3.0)\n",
            "Requirement already satisfied: jsonschema-specifications>=2023.03.6 in /usr/local/lib/python3.10/dist-packages (from jsonschema>=3.0->altair<6,>=4.0->streamlit) (2024.10.1)\n",
            "Requirement already satisfied: referencing>=0.28.4 in /usr/local/lib/python3.10/dist-packages (from jsonschema>=3.0->altair<6,>=4.0->streamlit) (0.35.1)\n",
            "Requirement already satisfied: rpds-py>=0.7.1 in /usr/local/lib/python3.10/dist-packages (from jsonschema>=3.0->altair<6,>=4.0->streamlit) (0.22.3)\n",
            "Requirement already satisfied: mdurl~=0.1 in /usr/local/lib/python3.10/dist-packages (from markdown-it-py>=2.2.0->rich<14,>=10.14.0->streamlit) (0.1.2)\n",
            "Requirement already satisfied: six>=1.5 in /usr/local/lib/python3.10/dist-packages (from python-dateutil>=2.8.2->pandas<3,>=1.4.0->streamlit) (1.17.0)\n",
            "Downloading streamlit-1.41.1-py2.py3-none-any.whl (9.1 MB)\n",
            "\u001b[2K   \u001b[90m━━━━━━━━━━━━━━━━━━━━━━━━━━━━━━━━━━━━━━━━\u001b[0m \u001b[32m9.1/9.1 MB\u001b[0m \u001b[31m77.0 MB/s\u001b[0m eta \u001b[36m0:00:00\u001b[0m\n",
            "\u001b[?25hDownloading pyngrok-7.2.2-py3-none-any.whl (22 kB)\n",
            "Downloading pydeck-0.9.1-py2.py3-none-any.whl (6.9 MB)\n",
            "\u001b[2K   \u001b[90m━━━━━━━━━━━━━━━━━━━━━━━━━━━━━━━━━━━━━━━━\u001b[0m \u001b[32m6.9/6.9 MB\u001b[0m \u001b[31m94.5 MB/s\u001b[0m eta \u001b[36m0:00:00\u001b[0m\n",
            "\u001b[?25hDownloading watchdog-6.0.0-py3-none-manylinux2014_x86_64.whl (79 kB)\n",
            "\u001b[2K   \u001b[90m━━━━━━━━━━━━━━━━━━━━━━━━━━━━━━━━━━━━━━━━\u001b[0m \u001b[32m79.1/79.1 kB\u001b[0m \u001b[31m6.8 MB/s\u001b[0m eta \u001b[36m0:00:00\u001b[0m\n",
            "\u001b[?25hInstalling collected packages: watchdog, pyngrok, pydeck, streamlit\n",
            "Successfully installed pydeck-0.9.1 pyngrok-7.2.2 streamlit-1.41.1 watchdog-6.0.0\n"
          ]
        }
      ],
      "source": [
        "!pip install streamlit requests pyngrok"
      ]
    },
    {
      "cell_type": "markdown",
      "metadata": {
        "id": "LJod2gD4t8DA"
      },
      "source": [
        "###2. **Set Up the Ngrok Authentication Token**\n",
        "Replace \"your_authtoken\" with your actual ngrok token in the following cell."
      ]
    },
    {
      "cell_type": "code",
      "execution_count": 2,
      "metadata": {
        "colab": {
          "base_uri": "https://localhost:8080/"
        },
        "id": "OCxIvKQ8uW9w",
        "outputId": "6cc1bc2d-36d3-45b5-afa6-93de337379b5"
      },
      "outputs": [
        {
          "output_type": "stream",
          "name": "stdout",
          "text": [
            "Authtoken saved to configuration file: /root/.config/ngrok/ngrok.yml\n",
            "Authtoken saved to configuration file: /root/.config/ngrok/ngrok.yml\n"
          ]
        }
      ],
      "source": [
        "#!ngrok config add-authtoken \"your_authtoken\"\n",
        "#!ngrok authtoken \"your_authtoken\"\n",
        "!ngrok config add-authtoken \"2ol9K0GNdjTzB2GrP2i2LES3WVu_EDz1dLjEE5YJ2yMjXAob\"\n",
        "!ngrok authtoken \"2ol9K0GNdjTzB2GrP2i2LES3WVu_EDz1dLjEE5YJ2yMjXAob\"\n"
      ]
    },
    {
      "cell_type": "markdown",
      "metadata": {
        "id": "N7xcmsqTNUI7"
      },
      "source": [
        "###3. **Mount Google drive for Excel Databases**\n",
        "Mount to /content/drive"
      ]
    },
    {
      "cell_type": "code",
      "execution_count": 3,
      "metadata": {
        "id": "xo9jtvOHNUwK"
      },
      "outputs": [],
      "source": [
        "#from google.colab import drive\n",
        "#drive.mount('/content/drive')"
      ]
    },
    {
      "cell_type": "markdown",
      "metadata": {
        "id": "aRpX9D1oIEgY"
      },
      "source": [
        "###4. **Save Your Streamlit App Code in app.py**\n",
        "In a new Colab cell, copy your Streamlit app code and save it as app.py:"
      ]
    },
    {
      "cell_type": "code",
      "source": [
        "code = \"\"\"\n",
        "# Import required libraries\n",
        "# Import required libraries\n",
        "import pandas as pd\n",
        "import streamlit as st\n",
        "\n",
        "# Define styling rules based on POS tags\n",
        "styling_rules = {\n",
        "    \"NOUN\": {\"color\": \"blue\", \"bold\": True},       # Nouns\n",
        "    \"PRON\": {\"color\": \"purple\", \"italic\": True},   # Pronouns\n",
        "    \"VERB\": {\"color\": \"green\", \"underline\": True}, # Verbs\n",
        "    \"ADV\": {\"color\": \"orange\"},                   # Adverbs\n",
        "    \"CONJ\": {\"color\": \"red\", \"bold\": True},        # Conjunctions\n",
        "    \"ADP\": {\"color\": \"cyan\"},                     # Prepositions\n",
        "    \"DET\": {\"color\": \"gray\", \"italic\": True},     # Articles\n",
        "    \"PUNCT\": {\"color\": \"black\"},                 # Punctuation\n",
        "    \"PROPN\": {\"color\": \"darkblue\", \"bold\": True, \"italic\": True}, # Proper Nouns\n",
        "    \"INTJ\": {\"color\": \"pink\", \"italic\": True},    # Interjections\n",
        "    \"NUM\": {\"color\": \"teal\"},                     # Numbers\n",
        "    \"PART\": {\"color\": \"brown\"},                   # Particles\n",
        "    \"SCONJ\": {\"color\": \"darkred\"},                # Subordinating conjunctions\n",
        "    \"CCONJ\": {\"color\": \"lightcoral\"},             # Coordinating conjunctions\n",
        "    \"ADJ\": {\"color\": \"magenta\", \"italic\": True},  # Adjectives\n",
        "    \"TEXT\": {\"color\": \"brown\", \"font_name\": \"Courier New\"} # Direct Speech\n",
        "}\n",
        "\n",
        "# Function to style a sentence using POS tags# Function to style a sentence using POS tags\n",
        "\n",
        "def style_sentence_with_pos(sentence, pos_tags):\n",
        "\n",
        "    #Styles a sentence using POS tags and styling rules.\n",
        "    #:param sentence: Original sentence as a string.\n",
        "    #:param pos_tags: POS tags as a list of strings in the format <word|POS>.\n",
        "    #:return: Styled HTML string.\n",
        "\n",
        "    styled_words = []\n",
        "    for word_pos in pos_tags:\n",
        "        try:\n",
        "            # Check for proper formatting and split word and POS\n",
        "            if \"|\" in word_pos and word_pos.startswith(\"<\") and word_pos.endswith(\">\"):\n",
        "                word, pos = word_pos.strip('<>').rsplit('|', 1)\n",
        "            else:\n",
        "                # If no POS tag, treat as punctuation or unknown\n",
        "                word = word_pos.strip('<>')\n",
        "                pos = \"PUNCT\" if word in [\".\", \",\", \"!\", \"?\", \";\", \":\"] else \"UNKNOWN\"\n",
        "\n",
        "            # Remove any residual \"ket\" format from the word\n",
        "            if \"|\" in word:\n",
        "                word = word.split('|')[0]  # Keep only the actual word part\n",
        "\n",
        "            # Get style based on POS\n",
        "            style = styling_rules.get(pos, {\"color\": \"black\"})  # Default to black\n",
        "            color = f\"color:{style.get('color', 'black')};\"\n",
        "            bold = \"font-weight:bold;\" if style.get(\"bold\", False) else \"\"\n",
        "            italic = \"font-style:italic;\" if style.get(\"italic\", False) else \"\"\n",
        "            underline = \"text-decoration:underline;\" if style.get(\"underline\", False) else \"\"\n",
        "            font_name = f\"font-family:{style.get('font_name', 'Arial')};\"\n",
        "\n",
        "            # Avoid styling punctuation\n",
        "            if pos == \"PUNCT\":\n",
        "                styled_word = word  # Render punctuation as is\n",
        "            else:\n",
        "                styled_word = f'<span style=\"{color} {bold} {italic} {underline} {font_name}\">{word}</span>'\n",
        "            styled_words.append(styled_word)\n",
        "        except Exception as e:\n",
        "            # Handle malformed tags gracefully\n",
        "            styled_words.append(f'<span style=\"color:red;\">{word_pos}</span>')  # Highlight problematic tags\n",
        "\n",
        "    return ' '.join(styled_words)\n",
        "\n",
        "\n",
        "# Streamlit app setup\n",
        "st.title(\"HOW KWAKU ANANSE (THE SPIDER) GOT ASO IN MARRIAGE\")\n",
        "\n",
        "# URL of the raw Excel file in the GitHub repository\n",
        "url_Story = \"https://raw.githubusercontent.com/BillWorstell/Akan/main/Ananse1/Ananse1.xlsx\"\n",
        "\n",
        "# Load the Excel file\n",
        "story_file = pd.ExcelFile(url_Story, engine=\"openpyxl\")\n",
        "\n",
        "# Sidebar integration\n",
        "st.sidebar.header(\"Story= Ananse1\")\n",
        "\n",
        "# Story levels and sentence selector\n",
        "story_levels = story_file.sheet_names\n",
        "level_choice = st.sidebar.selectbox(\"Story Level\", story_levels)\n",
        "story_data = story_file.parse(level_choice)\n",
        "num_sentences = len(story_data)\n",
        "sentence = st.sidebar.slider(\"Sentence Number?\", 0, num_sentences - 1, 0)\n",
        "\n",
        "# Main section split into four columns\n",
        "col1, col2, col3, col4= st.columns(4)\n",
        "\n",
        "# Populate Column 1 (Akan)\n",
        "with col1:\n",
        "    st.write(\"### Akan\")\n",
        "    akan_sentence = story_data.iloc[sentence, 0]\n",
        "    akan_pos_tags = story_data.iloc[sentence, 4].split()  # Assumes POS tags are in the 5th column\n",
        "    styled_akan = style_sentence_with_pos(akan_sentence, akan_pos_tags)\n",
        "    st.markdown(styled_akan, unsafe_allow_html=True)\n",
        "\n",
        "# Populate Column 2 (AtoE)\n",
        "with col2:\n",
        "    st.write(\"### AtoE\")\n",
        "    atoe_sentence = story_data.iloc[sentence, 2]\n",
        "    atoe_pos_tags = story_data.iloc[sentence, 6].split()  # Assumes POS tags are in the 7th column\n",
        "    styled_atoe = style_sentence_with_pos(atoe_sentence, atoe_pos_tags)\n",
        "    st.markdown(styled_atoe, unsafe_allow_html=True)\n",
        "\n",
        "# Populate Column 3 (English)\n",
        "with col3:\n",
        "    st.write(\"### English\")\n",
        "    english_sentence = story_data.iloc[sentence, 1]\n",
        "    english_pos_tags = story_data.iloc[sentence, 5].split()  # Assumes POS tags are in the 6th column\n",
        "    styled_english = style_sentence_with_pos(english_sentence, english_pos_tags)\n",
        "    st.markdown(styled_english, unsafe_allow_html=True)\n",
        "\n",
        "# Populate Column 4 (EtoA)\n",
        "with col4:\n",
        "    st.write(\"### EtoA\")\n",
        "    etoa_sentence = story_data.iloc[sentence, 3]\n",
        "    etoa_pos_tags = story_data.iloc[sentence, 7].split()  # Assumes POS tags are in the 8th column\n",
        "    styled_etoa = style_sentence_with_pos(etoa_sentence, etoa_pos_tags)\n",
        "    st.markdown(styled_etoa, unsafe_allow_html=True)\n",
        "\n",
        "\n",
        "st.write(\"Enjoy folklore!\")\n",
        "\"\"\"\n",
        "\n",
        "with open(\"app.py\", \"w\") as file:\n",
        "    file.write(code)"
      ],
      "metadata": {
        "id": "HCC4CrF58LVj"
      },
      "execution_count": 4,
      "outputs": []
    },
    {
      "cell_type": "markdown",
      "metadata": {
        "id": "uTV66IIHRKPS"
      },
      "source": [
        "###Key Features:\n",
        "1. Independent Level Selection for Both Columns:\n",
        "\n",
        "* Each column (Column 1 and Column 2) has its own independent drop-downs in the sidebar.\n",
        "* Users can select different levels of Akan, AtoE, and English for comparison.\n",
        "2. Side-by-Side Display:\n",
        "\n",
        "* Both columns display the selected levels for Akan, AtoE, and English texts.\n",
        "* Useful for comparing different translation levels.\n",
        "3. Sidebar Organization:\n",
        "\n",
        "* Clearly separates settings for Column 1 and Column 2 to make selections intuitive.\n",
        "###Expected Output:\n",
        "* Sidebar: Allows level selection for both columns independently.\n",
        "* Main Display:\n",
        "** Column 1: Displays Akan, AtoE, and English texts as per Column 1 selections.\n",
        "** Column 2: Displays Akan, AtoE, and English texts as per Column 2 selections."
      ]
    },
    {
      "cell_type": "code",
      "execution_count": 5,
      "metadata": {
        "id": "v6OA3IBMTCmm"
      },
      "outputs": [],
      "source": [
        "#!streamlit run /usr/local/lib/python3.10/dist-packages/colab_kernel_launcher.py"
      ]
    },
    {
      "cell_type": "markdown",
      "metadata": {
        "id": "KbnLEvC1v37I"
      },
      "source": [
        "### 4. **Run the Streamlit App and Create the Ngrok Tunnel**\n",
        "Now, run the following code to start the Streamlit app and create an ngrok tunnel to access it. Make sure only one instance of Streamlit is running to avoid conflicts."
      ]
    },
    {
      "cell_type": "code",
      "execution_count": 6,
      "metadata": {
        "id": "u7pRaaxnxu4J",
        "colab": {
          "base_uri": "https://localhost:8080/"
        },
        "outputId": "d394149d-cd11-44d5-f25a-75ecb8ec2b34"
      },
      "outputs": [
        {
          "output_type": "execute_result",
          "data": {
            "text/plain": [
              "<Popen: returncode: None args: ['streamlit', 'run', 'app.py', '--server.port...>"
            ]
          },
          "metadata": {},
          "execution_count": 6
        }
      ],
      "source": [
        "import subprocess\n",
        "# Start Streamlit app on port 8501\n",
        "subprocess.Popen([\"streamlit\", \"run\", \"app.py\", \"--server.port\", \"8501\"])\n"
      ]
    },
    {
      "cell_type": "code",
      "execution_count": 7,
      "metadata": {
        "id": "sBrV2lY0x3tQ",
        "colab": {
          "base_uri": "https://localhost:8080/"
        },
        "outputId": "342da5ca-b0ed-43ad-aacb-e26b82404cfa"
      },
      "outputs": [
        {
          "output_type": "stream",
          "name": "stdout",
          "text": [
            "Access the Streamlit app at: NgrokTunnel: \"https://2573-34-16-202-98.ngrok-free.app\" -> \"http://localhost:8501\"\n"
          ]
        }
      ],
      "source": [
        "from pyngrok import ngrok\n",
        "\n",
        "# Start a single ngrok tunnel to port 8501\n",
        "url = ngrok.connect(8501)\n",
        "print(f\"Access the Streamlit app at: {url}\")\n"
      ]
    },
    {
      "cell_type": "markdown",
      "metadata": {
        "id": "-72bKwrgzR-0"
      },
      "source": [
        "###**Step 5: Confirm Streamlit is Running on Port 8501**\n",
        "To verify that the Streamlit app is accessible, run:"
      ]
    },
    {
      "cell_type": "code",
      "execution_count": 8,
      "metadata": {
        "id": "u0dfqZL2zyXy",
        "colab": {
          "base_uri": "https://localhost:8080/"
        },
        "outputId": "495df0eb-949c-439d-d455-3de44479dade"
      },
      "outputs": [
        {
          "output_type": "stream",
          "name": "stdout",
          "text": [
            "curl: (7) Failed to connect to localhost port 8501 after 0 ms: Connection refused\n"
          ]
        }
      ],
      "source": [
        "!curl -I http://localhost:8501\n"
      ]
    },
    {
      "cell_type": "markdown",
      "metadata": {
        "id": "ri6SF0JKz8o1"
      },
      "source": [
        "If Streamlit is running correctly, this command should show a response. If there’s an error, check if the Streamlit app has started correctly in the cell above.\n",
        "\n",
        "###**Important Notes:**\n",
        "\n",
        "*   Avoid running multiple cells that initiate ngrok simultaneously, as this will exceed the session limit.\n",
        "*   If you still face issues, go to the ngrok dashboard to terminate any active sessions before starting a new one in Colab.\n",
        "\n",
        "\n",
        "."
      ]
    }
  ],
  "metadata": {
    "colab": {
      "provenance": [],
      "authorship_tag": "ABX9TyNUunyYMDbG7pfiKJadF6ZT",
      "include_colab_link": true
    },
    "kernelspec": {
      "display_name": "Python 3",
      "name": "python3"
    },
    "language_info": {
      "name": "python"
    }
  },
  "nbformat": 4,
  "nbformat_minor": 0
}