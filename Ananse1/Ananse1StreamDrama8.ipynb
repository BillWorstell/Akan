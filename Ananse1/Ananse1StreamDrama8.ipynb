{
  "cells": [
    {
      "cell_type": "markdown",
      "metadata": {
        "id": "6P9ALhEZGCht"
      },
      "source": [
        "You can create a simple interactive GUI in Python using Streamlit, a lightweight library that's perfect for deploying applications quickly, including on Google Colab. Streamlit will allow you to integrate text, images, and interact with GPT-4 API, all from a single interface with a friendly user experience.\n",
        "\n",
        "Here’s how you can set up this interactive folklore exploration tool in Streamlit. The following code includes a GUI where users can explore the dilemmas, see paired stories, and interact with a GPT-4 API for deeper analysis or explanation of each tale. We’ll also add options for adaptive user control and seamless integration with GitHub for version tracking.\n",
        "\n",
        "###Steps to Create and Deploy the Demo App\n",
        "* Install Streamlit and other required libraries.\n",
        "* Build the Streamlit GUI with options for choosing dilemmas and displaying the story pairs.\n",
        "* Integrate GPT-4 API for analysis and interpretation.\n",
        "* Deploy the app on Google Colab and save it to GitHub\n",
        "\n",
        "#1. Install Streamlit and Required Libraries\n",
        "In Google Colab, install Streamlit, requests (for API calls), and ngrok (for hosting the Streamlit app)."
      ]
    },
    {
      "cell_type": "code",
      "execution_count": null,
      "metadata": {
        "colab": {
          "base_uri": "https://localhost:8080/"
        },
        "id": "-tHbZwSoHzuR",
        "outputId": "89326a93-e01c-46d0-fffb-87a79fa3eece"
      },
      "outputs": [
        {
          "output_type": "stream",
          "name": "stdout",
          "text": [
            "Requirement already satisfied: streamlit in /usr/local/lib/python3.10/dist-packages (1.41.1)\n",
            "Requirement already satisfied: requests in /usr/local/lib/python3.10/dist-packages (2.32.3)\n",
            "Requirement already satisfied: pyngrok in /usr/local/lib/python3.10/dist-packages (7.2.2)\n",
            "Requirement already satisfied: altair<6,>=4.0 in /usr/local/lib/python3.10/dist-packages (from streamlit) (5.5.0)\n",
            "Requirement already satisfied: blinker<2,>=1.0.0 in /usr/local/lib/python3.10/dist-packages (from streamlit) (1.9.0)\n",
            "Requirement already satisfied: cachetools<6,>=4.0 in /usr/local/lib/python3.10/dist-packages (from streamlit) (5.5.0)\n",
            "Requirement already satisfied: click<9,>=7.0 in /usr/local/lib/python3.10/dist-packages (from streamlit) (8.1.7)\n",
            "Requirement already satisfied: numpy<3,>=1.23 in /usr/local/lib/python3.10/dist-packages (from streamlit) (1.26.4)\n",
            "Requirement already satisfied: packaging<25,>=20 in /usr/local/lib/python3.10/dist-packages (from streamlit) (24.2)\n",
            "Requirement already satisfied: pandas<3,>=1.4.0 in /usr/local/lib/python3.10/dist-packages (from streamlit) (2.2.2)\n",
            "Requirement already satisfied: pillow<12,>=7.1.0 in /usr/local/lib/python3.10/dist-packages (from streamlit) (11.0.0)\n",
            "Requirement already satisfied: protobuf<6,>=3.20 in /usr/local/lib/python3.10/dist-packages (from streamlit) (4.25.5)\n",
            "Requirement already satisfied: pyarrow>=7.0 in /usr/local/lib/python3.10/dist-packages (from streamlit) (17.0.0)\n",
            "Requirement already satisfied: rich<14,>=10.14.0 in /usr/local/lib/python3.10/dist-packages (from streamlit) (13.9.4)\n",
            "Requirement already satisfied: tenacity<10,>=8.1.0 in /usr/local/lib/python3.10/dist-packages (from streamlit) (9.0.0)\n",
            "Requirement already satisfied: toml<2,>=0.10.1 in /usr/local/lib/python3.10/dist-packages (from streamlit) (0.10.2)\n",
            "Requirement already satisfied: typing-extensions<5,>=4.3.0 in /usr/local/lib/python3.10/dist-packages (from streamlit) (4.12.2)\n",
            "Requirement already satisfied: watchdog<7,>=2.1.5 in /usr/local/lib/python3.10/dist-packages (from streamlit) (6.0.0)\n",
            "Requirement already satisfied: gitpython!=3.1.19,<4,>=3.0.7 in /usr/local/lib/python3.10/dist-packages (from streamlit) (3.1.43)\n",
            "Requirement already satisfied: pydeck<1,>=0.8.0b4 in /usr/local/lib/python3.10/dist-packages (from streamlit) (0.9.1)\n",
            "Requirement already satisfied: tornado<7,>=6.0.3 in /usr/local/lib/python3.10/dist-packages (from streamlit) (6.3.3)\n",
            "Requirement already satisfied: charset-normalizer<4,>=2 in /usr/local/lib/python3.10/dist-packages (from requests) (3.4.0)\n",
            "Requirement already satisfied: idna<4,>=2.5 in /usr/local/lib/python3.10/dist-packages (from requests) (3.10)\n",
            "Requirement already satisfied: urllib3<3,>=1.21.1 in /usr/local/lib/python3.10/dist-packages (from requests) (2.2.3)\n",
            "Requirement already satisfied: certifi>=2017.4.17 in /usr/local/lib/python3.10/dist-packages (from requests) (2024.12.14)\n",
            "Requirement already satisfied: PyYAML>=5.1 in /usr/local/lib/python3.10/dist-packages (from pyngrok) (6.0.2)\n",
            "Requirement already satisfied: jinja2 in /usr/local/lib/python3.10/dist-packages (from altair<6,>=4.0->streamlit) (3.1.4)\n",
            "Requirement already satisfied: jsonschema>=3.0 in /usr/local/lib/python3.10/dist-packages (from altair<6,>=4.0->streamlit) (4.23.0)\n",
            "Requirement already satisfied: narwhals>=1.14.2 in /usr/local/lib/python3.10/dist-packages (from altair<6,>=4.0->streamlit) (1.18.4)\n",
            "Requirement already satisfied: gitdb<5,>=4.0.1 in /usr/local/lib/python3.10/dist-packages (from gitpython!=3.1.19,<4,>=3.0.7->streamlit) (4.0.11)\n",
            "Requirement already satisfied: python-dateutil>=2.8.2 in /usr/local/lib/python3.10/dist-packages (from pandas<3,>=1.4.0->streamlit) (2.8.2)\n",
            "Requirement already satisfied: pytz>=2020.1 in /usr/local/lib/python3.10/dist-packages (from pandas<3,>=1.4.0->streamlit) (2024.2)\n",
            "Requirement already satisfied: tzdata>=2022.7 in /usr/local/lib/python3.10/dist-packages (from pandas<3,>=1.4.0->streamlit) (2024.2)\n",
            "Requirement already satisfied: markdown-it-py>=2.2.0 in /usr/local/lib/python3.10/dist-packages (from rich<14,>=10.14.0->streamlit) (3.0.0)\n",
            "Requirement already satisfied: pygments<3.0.0,>=2.13.0 in /usr/local/lib/python3.10/dist-packages (from rich<14,>=10.14.0->streamlit) (2.18.0)\n",
            "Requirement already satisfied: smmap<6,>=3.0.1 in /usr/local/lib/python3.10/dist-packages (from gitdb<5,>=4.0.1->gitpython!=3.1.19,<4,>=3.0.7->streamlit) (5.0.1)\n",
            "Requirement already satisfied: MarkupSafe>=2.0 in /usr/local/lib/python3.10/dist-packages (from jinja2->altair<6,>=4.0->streamlit) (3.0.2)\n",
            "Requirement already satisfied: attrs>=22.2.0 in /usr/local/lib/python3.10/dist-packages (from jsonschema>=3.0->altair<6,>=4.0->streamlit) (24.3.0)\n",
            "Requirement already satisfied: jsonschema-specifications>=2023.03.6 in /usr/local/lib/python3.10/dist-packages (from jsonschema>=3.0->altair<6,>=4.0->streamlit) (2024.10.1)\n",
            "Requirement already satisfied: referencing>=0.28.4 in /usr/local/lib/python3.10/dist-packages (from jsonschema>=3.0->altair<6,>=4.0->streamlit) (0.35.1)\n",
            "Requirement already satisfied: rpds-py>=0.7.1 in /usr/local/lib/python3.10/dist-packages (from jsonschema>=3.0->altair<6,>=4.0->streamlit) (0.22.3)\n",
            "Requirement already satisfied: mdurl~=0.1 in /usr/local/lib/python3.10/dist-packages (from markdown-it-py>=2.2.0->rich<14,>=10.14.0->streamlit) (0.1.2)\n",
            "Requirement already satisfied: six>=1.5 in /usr/local/lib/python3.10/dist-packages (from python-dateutil>=2.8.2->pandas<3,>=1.4.0->streamlit) (1.17.0)\n"
          ]
        }
      ],
      "source": [
        "!pip install streamlit requests pyngrok"
      ]
    },
    {
      "cell_type": "markdown",
      "metadata": {
        "id": "LJod2gD4t8DA"
      },
      "source": [
        "###2. **Set Up the Ngrok Authentication Token**\n",
        "Replace \"your_authtoken\" with your actual ngrok token in the following cell."
      ]
    },
    {
      "cell_type": "code",
      "execution_count": null,
      "metadata": {
        "colab": {
          "base_uri": "https://localhost:8080/"
        },
        "id": "OCxIvKQ8uW9w",
        "outputId": "dd961f13-44ce-4169-9318-ec02c8be867e"
      },
      "outputs": [
        {
          "output_type": "stream",
          "name": "stdout",
          "text": [
            "Authtoken saved to configuration file: /root/.config/ngrok/ngrok.yml\n",
            "Authtoken saved to configuration file: /root/.config/ngrok/ngrok.yml\n"
          ]
        }
      ],
      "source": [
        "#!ngrok config add-authtoken \"your_authtoken\"\n",
        "#!ngrok authtoken \"your_authtoken\"\n",
        "!ngrok config add-authtoken \"2ol9K0GNdjTzB2GrP2i2LES3WVu_EDz1dLjEE5YJ2yMjXAob\"\n",
        "!ngrok authtoken \"2ol9K0GNdjTzB2GrP2i2LES3WVu_EDz1dLjEE5YJ2yMjXAob\"\n"
      ]
    },
    {
      "cell_type": "markdown",
      "metadata": {
        "id": "N7xcmsqTNUI7"
      },
      "source": [
        "###3. **Mount Google drive for Excel Databases**\n",
        "Mount to /content/drive"
      ]
    },
    {
      "cell_type": "code",
      "execution_count": null,
      "metadata": {
        "id": "xo9jtvOHNUwK"
      },
      "outputs": [],
      "source": [
        "#from google.colab import drive\n",
        "#drive.mount('/content/drive')"
      ]
    },
    {
      "cell_type": "markdown",
      "metadata": {
        "id": "aRpX9D1oIEgY"
      },
      "source": [
        "###4. **Save Your Streamlit App Code in app.py**\n",
        "In a new Colab cell, copy your Streamlit app code and save it as app.py:"
      ]
    },
    {
      "cell_type": "code",
      "source": [
        "code = \"\"\"\n",
        "# Import required libraries\n",
        "import pandas as pd\n",
        "import streamlit as st\n",
        "import matplotlib.pyplot as plt\n",
        "import numpy as np\n",
        "\n",
        "# Define styling rules based on POS tags\n",
        "styling_rules = {\n",
        "    \"NOUN\": {\"color\": \"blue\", \"bold\": True},\n",
        "    \"PRON\": {\"color\": \"purple\", \"italic\": True},\n",
        "    \"VERB\": {\"color\": \"green\", \"underline\": True},\n",
        "    \"ADV\": {\"color\": \"orange\"},\n",
        "    \"CONJ\": {\"color\": \"red\", \"bold\": True},\n",
        "    \"ADP\": {\"color\": \"cyan\"},\n",
        "    \"DET\": {\"color\": \"gray\", \"italic\": True},\n",
        "    \"PUNCT\": {\"color\": \"black\"},\n",
        "    \"PROPN\": {\"color\": \"darkblue\", \"bold\": True, \"italic\": True},\n",
        "    \"INTJ\": {\"color\": \"pink\", \"italic\": True},\n",
        "    \"NUM\": {\"color\": \"teal\"},\n",
        "    \"PART\": {\"color\": \"brown\"},\n",
        "    \"SCONJ\": {\"color\": \"darkred\"},\n",
        "    \"CCONJ\": {\"color\": \"lightcoral\"},\n",
        "    \"ADJ\": {\"color\": \"magenta\", \"italic\": True},\n",
        "    \"TEXT\": {\"color\": \"brown\", \"font_name\": \"Courier New\"}\n",
        "}\n",
        "\n",
        "def generate_filtered_pos_key(pos_tags_used, sentence_pos_tags):\n",
        "\n",
        "    #Creates a compact markdown table showing only the POS that appear in the current sentence,\n",
        "    #with examples derived from the sentence's POS tags.\n",
        "    #:param pos_tags_used: Set of POS tags found in the current sentence.\n",
        "    #:param sentence_pos_tags: Full list of <word|POS> pairs from the current sentence.\n",
        "    #:return: Filtered POS Key as a markdown table.\n",
        "\n",
        "    key_markdown = \"<h5>Parts of Speech Key</h5>\"\n",
        "    key_markdown += \"<table style='border-collapse: collapse; width: 100%; font-size: small;'>\"\n",
        "    key_markdown += \"<tr><th style='text-align: left;'>POS</th><th style='text-align: left;'>Example</th></tr>\"\n",
        "\n",
        "    # Build a dictionary of POS -> example word from sentence\n",
        "    pos_to_example = {}\n",
        "    for tag in sentence_pos_tags:\n",
        "        if \"|\" in tag and tag.startswith(\"<\") and tag.endswith(\">\"):\n",
        "            word, pos = tag.strip(\"<>\").rsplit('|', 1)\n",
        "            if pos not in pos_to_example:  # Only take the first occurrence\n",
        "                pos_to_example[pos] = word\n",
        "\n",
        "    for pos, style in styling_rules.items():\n",
        "        if pos in pos_tags_used:  # Only include POS tags that are present\n",
        "            pos_label = {\n",
        "                \"NOUN\": \"Noun\",\n",
        "                \"PRON\": \"Pronoun\",\n",
        "                \"VERB\": \"Verb\",\n",
        "                \"ADV\": \"Adverb\",\n",
        "                \"CONJ\": \"Conjunction\",\n",
        "                \"ADP\": \"Preposition\",\n",
        "                \"DET\": \"Determiner\",\n",
        "                \"PUNCT\": \"Punctuation\",\n",
        "                \"PROPN\": \"Proper Noun\",\n",
        "                \"INTJ\": \"Interjection\",\n",
        "                \"NUM\": \"Number\",\n",
        "                \"PART\": \"Particle\",\n",
        "                \"SCONJ\": \"Subordinating Conjunction\",\n",
        "                \"CCONJ\": \"Coordinating Conjunction\",\n",
        "                \"ADJ\": \"Adjective\",\n",
        "                \"TEXT\": \"Direct Speech\",\n",
        "            }.get(pos, pos)\n",
        "\n",
        "            # Example word for the part of speech\n",
        "            example_word = pos_to_example.get(pos, \"N/A\")\n",
        "            color = f\"color:{style.get('color', 'black')};\"\n",
        "            bold = \"font-weight:bold;\" if style.get(\"bold\", False) else \"\"\n",
        "            italic = \"font-style:italic;\" if style.get(\"italic\", False) else \"\"\n",
        "            underline = \"text-decoration:underline;\" if style.get(\"underline\", False) else \"\"\n",
        "            font_name = f\"font-family:{style.get('font_name', 'Arial')};\"\n",
        "\n",
        "            # Styled example\n",
        "            styled_example = f'<span style=\"{color} {bold} {italic} {underline} {font_name}\">{example_word}</span>'\n",
        "\n",
        "            # Add row to the table\n",
        "            key_markdown += f\"<tr><td>{pos_label}</td><td>{styled_example}</td></tr>\"\n",
        "\n",
        "    key_markdown += \"</table>\"\n",
        "    return key_markdown\n",
        "\n",
        "\n",
        "# Function to generate a colorized key for parts of speech\n",
        "def generate_pos_key():\n",
        "\n",
        "    # Creates a compact markdown table showing the POS key with corresponding styles, reduced font size,\n",
        "    # and no spacing between rows.\n",
        "\n",
        "    key_markdown = \"<h5>Parts of Speech Key</h5>\"\n",
        "    key_markdown += \"<table style='border-collapse: collapse; width: 100%; font-size: small;'>\"\n",
        "    key_markdown += \"<tr><th style='text-align: left;'>POS</th><th style='text-align: left;'>Example</th></tr>\"\n",
        "\n",
        "    for pos, style in styling_rules.items():\n",
        "        # Label for the part of speech\n",
        "        pos_label = {\n",
        "            \"NOUN\": \"Noun\",\n",
        "            \"PRON\": \"Pronoun\",\n",
        "            \"VERB\": \"Verb\",\n",
        "            \"ADV\": \"Adverb\",\n",
        "            \"CONJ\": \"Conjunction\",\n",
        "            \"ADP\": \"Preposition\",\n",
        "            \"DET\": \"Determiner\",\n",
        "            \"PUNCT\": \"Punctuation\",\n",
        "            \"PROPN\": \"Proper Noun\",\n",
        "            \"INTJ\": \"Interjection\",\n",
        "            \"NUM\": \"Number\",\n",
        "            \"PART\": \"Particle\",\n",
        "            \"SCONJ\": \"Subordinating Conjunction\",\n",
        "            \"CCONJ\": \"Coordinating Conjunction\",\n",
        "            \"ADJ\": \"Adjective\",\n",
        "            \"TEXT\": \"Direct Speech\",\n",
        "        }.get(pos, pos)\n",
        "\n",
        "        # Generate styled example for the part of speech\n",
        "        example_word = f\"{pos_label}\"  # Use label as the example\n",
        "        color = f\"color:{style.get('color', 'black')};\"\n",
        "        bold = \"font-weight:bold;\" if style.get(\"bold\", False) else \"\"\n",
        "        italic = \"font-style:italic;\" if style.get(\"italic\", False) else \"\"\n",
        "        underline = \"text-decoration:underline;\" if style.get(\"underline\", False) else \"\"\n",
        "        font_name = f\"font-family:{style.get('font_name', 'Arial')};\"\n",
        "        styled_example = f'<span style=\"{color} {bold} {italic} {underline} {font_name}\">{example_word}</span>'\n",
        "\n",
        "        # Add row to the table\n",
        "        key_markdown += f\"<tr style='margin: 0; padding: 0;'><td style='padding: 0;'>{pos_label}</td><td style='padding: 0;'>{styled_example}</td></tr>\"\n",
        "\n",
        "    key_markdown += \"</table>\"\n",
        "    return key_markdown\n",
        "\n",
        "# Function to style a sentence using POS tags# Function to style a sentence using POS tags\n",
        "\n",
        "def style_sentence_with_pos(sentence, pos_tags):\n",
        "\n",
        "    #Styles a sentence using POS tags and styling rules.\n",
        "    #:param sentence: Original sentence as a string.\n",
        "    #:param pos_tags: POS tags as a list of strings in the format <word|POS>.\n",
        "    #:return: Styled HTML string.\n",
        "\n",
        "    styled_words = []\n",
        "    for word_pos in pos_tags:\n",
        "        try:\n",
        "            # Check for proper formatting and split word and POS\n",
        "            if \"|\" in word_pos and word_pos.startswith(\"<\") and word_pos.endswith(\">\"):\n",
        "                word, pos = word_pos.strip('<>').rsplit('|', 1)\n",
        "            else:\n",
        "                # If no POS tag, treat as punctuation or unknown\n",
        "                word = word_pos.strip('<>')\n",
        "                pos = \"PUNCT\" if word in [\".\", \",\", \"!\", \"?\", \";\", \":\"] else \"UNKNOWN\"\n",
        "\n",
        "            # Remove any residual \"ket\" format from the word\n",
        "            if \"|\" in word:\n",
        "                word = word.split('|')[0]  # Keep only the actual word part\n",
        "\n",
        "            # Get style based on POS\n",
        "            style = styling_rules.get(pos, {\"color\": \"black\"})  # Default to black\n",
        "            color = f\"color:{style.get('color', 'black')};\"\n",
        "            bold = \"font-weight:bold;\" if style.get(\"bold\", False) else \"\"\n",
        "            italic = \"font-style:italic;\" if style.get(\"italic\", False) else \"\"\n",
        "            underline = \"text-decoration:underline;\" if style.get(\"underline\", False) else \"\"\n",
        "            font_name = f\"font-family:{style.get('font_name', 'Arial')};\"\n",
        "\n",
        "            # Avoid styling punctuation\n",
        "            if pos == \"PUNCT\":\n",
        "                styled_word = word  # Render punctuation as is\n",
        "            else:\n",
        "                styled_word = f'<span style=\"{color} {bold} {italic} {underline} {font_name}\">{word}</span>'\n",
        "            styled_words.append(styled_word)\n",
        "        except Exception as e:\n",
        "            # Handle malformed tags gracefully\n",
        "            styled_words.append(f'<span style=\"color:red;\">{word_pos}</span>')  # Highlight problematic tags\n",
        "\n",
        "    return ' '.join(styled_words)\n",
        "#\n",
        "def generate_filtered_pos_key(pos_tags_used, sentence_pos_tags):\n",
        "\n",
        "    #Creates a compact markdown table showing only the POS that appear in the current sentence,\n",
        "    #with examples derived from the sentence's POS tags.\n",
        "    #:param pos_tags_used: Set of POS tags found in the current sentence.\n",
        "    #:param sentence_pos_tags: Full list of <word|POS> pairs from the current sentence.\n",
        "    #S:return: Filtered POS Key as a markdown table.\n",
        "\n",
        "    key_markdown = \"<h5>Parts of Speech Key</h5>\"\n",
        "    key_markdown += \"<table style='border-collapse: collapse; width: 100%; font-size: small;'>\"\n",
        "    key_markdown += \"<tr><th style='text-align: left;'>POS</th><th style='text-align: left;'>Example</th></tr>\"\n",
        "\n",
        "    # Build a dictionary of POS -> example word from sentence\n",
        "    pos_to_example = {}\n",
        "    for tag in sentence_pos_tags:\n",
        "        if \"|\" in tag and tag.startswith(\"<\") and tag.endswith(\">\"):\n",
        "            word, pos = tag.strip(\"<>\").rsplit('|', 1)\n",
        "            if pos not in pos_to_example:  # Only take the first occurrence\n",
        "                pos_to_example[pos] = word\n",
        "\n",
        "    for pos, style in styling_rules.items():\n",
        "        if pos in pos_tags_used:  # Only include POS tags that are present\n",
        "            pos_label = {\n",
        "                \"NOUN\": \"Noun\",\n",
        "                \"PRON\": \"Pronoun\",\n",
        "                \"VERB\": \"Verb\",\n",
        "                \"ADV\": \"Adverb\",\n",
        "                \"CONJ\": \"Conjunction\",\n",
        "                \"ADP\": \"Preposition\",\n",
        "                \"DET\": \"Determiner\",\n",
        "                \"PUNCT\": \"Punctuation\",\n",
        "                \"PROPN\": \"Proper Noun\",\n",
        "                \"INTJ\": \"Interjection\",\n",
        "                \"NUM\": \"Number\",\n",
        "                \"PART\": \"Particle\",\n",
        "                \"SCONJ\": \"Subordinating Conjunction\",\n",
        "                \"CCONJ\": \"Coordinating Conjunction\",\n",
        "                \"ADJ\": \"Adjective\",\n",
        "                \"TEXT\": \"Direct Speech\",\n",
        "            }.get(pos, pos)\n",
        "\n",
        "            # Example word for the part of speech\n",
        "            example_word = pos_to_example.get(pos, \"N/A\")\n",
        "            color = f\"color:{style.get('color', 'black')};\"\n",
        "            bold = \"font-weight:bold;\" if style.get(\"bold\", False) else \"\"\n",
        "            italic = \"font-style:italic;\" if style.get(\"italic\", False) else \"\"\n",
        "            underline = \"text-decoration:underline;\" if style.get(\"underline\", False) else \"\"\n",
        "            font_name = f\"font-family:{style.get('font_name', 'Arial')};\"\n",
        "\n",
        "            # Styled example\n",
        "            styled_example = f'<span style=\"{color} {bold} {italic} {underline} {font_name}\">{example_word}</span>'\n",
        "\n",
        "            # Add row to the table\n",
        "            key_markdown += f\"<tr style='padding: 0; margin: 0;'><td style='padding: 0;'>{pos_label}</td><td style='padding: 0;'>{styled_example}</td></tr>\"\n",
        "    key_markdown += \"</table>\"\n",
        "    return key_markdown\n",
        "\n",
        "# Streamlit app setup\n",
        "st.title(\"HOW KWAKU ANANSE (THE SPIDER) GOT ASO IN MARRIAGE\")\n",
        "\n",
        "# Load Story and Comprehensive Campbell Dataset\n",
        "story_url = \"https://raw.githubusercontent.com/BillWorstell/Akan/main/Ananse1/Ananse1_Learned.xlsx\"\n",
        "\n",
        "import requests\n",
        "\n",
        "# URL of the Markdown file on GitHub\n",
        "md_file_url = \"https://raw.githubusercontent.com/BillWorstell/Akan/main/Ananse1/DramaticAnalysis.md\"\n",
        "\n",
        "try:\n",
        "    # Fetch the content of the file\n",
        "    response = requests.get(md_file_url)\n",
        "    response.raise_for_status()  # Raise an error if the request failed\n",
        "    dramatic_analysis_content = response.text\n",
        "except requests.exceptions.RequestException as e:\n",
        "    dramatic_analysis_content = f\"Error fetching Dramatic Analysis content: {e}\"\n",
        "\n",
        "# Add a toggle button at the top of the sidebar\n",
        "toggle_option = st.sidebar.radio(\n",
        "    \"Choose Sidebar Content\",\n",
        "    (\"Current Page Content\", \"Dramatic Analysis\"),\n",
        ")\n",
        "# Load the Excel file\n",
        "story_file = pd.ExcelFile(story_url, engine=\"openpyxl\")\n",
        "\n",
        "# Story levels and sentence selector\n",
        "story_levels = story_file.sheet_names\n",
        "level_choice = st.sidebar.selectbox(\"Story Level\", story_levels)\n",
        "story_data = story_file.parse(level_choice)\n",
        "\n",
        "num_sentences = len(story_data)\n",
        "\n",
        "# Initialize session state for sentence index\n",
        "if \"sentence_index\" not in st.session_state:\n",
        "  st.session_state.sentence_index = 0\n",
        "\n",
        "# Sync slider with session state\n",
        "sentence = st.sidebar.slider(\n",
        "  \"Sentence Number?\",\n",
        "  0, num_sentences - 1,\n",
        "  st.session_state.sentence_index\n",
        ")\n",
        "\n",
        "# Update session state when slider changes\n",
        "if sentence != st.session_state.sentence_index:\n",
        "  st.session_state.sentence_index = sentence\n",
        "\n",
        "# Add navigation buttons in the sidebar\n",
        "if st.sidebar.button(\"Previous Line\"):\n",
        "  st.session_state.sentence_index = max(0, st.session_state.sentence_index - 1)\n",
        "if st.sidebar.button(\"Next Line\"):\n",
        "  st.session_state.sentence_index = min(num_sentences - 1, st.session_state.sentence_index + 1)\n",
        "\n",
        "# Sync slider value with navigation buttons\n",
        "sentence = st.session_state.sentence_index\n",
        "\n",
        "# Conditionally display content based on the toggle\n",
        "if toggle_option == \"Dramatic Analysis\":\n",
        "    # Display the Dramatic Analysis markdown content\n",
        "    st.sidebar.markdown(\"---\")  # Separator for clarity\n",
        "    st.sidebar.markdown(\"### Dramatic Analysis\")\n",
        "    st.sidebar.markdown(dramatic_analysis_content, unsafe_allow_html=True)\n",
        "else:\n",
        "\n",
        "\n",
        "\n",
        "    # Display the POS key in the sidebar\n",
        "    pos_key = generate_pos_key()\n",
        "\n",
        "    # Collect POS tags used in the current sentence\n",
        "    current_pos_tags = set()\n",
        "    sentence_pos_tags = []  # List of all <word|POS> pairs in the sentence\n",
        "    for col_idx in [4, 5, 6, 7]:  # POS columns for Akan, English, AtoE, EtoA\n",
        "      column_data = story_data.iloc[sentence, col_idx]\n",
        "      if isinstance(column_data, str):  # If data is a string, split it\n",
        "          column_data = column_data.split()\n",
        "      elif isinstance(column_data, list):  # If it's already a list, use it\n",
        "          pass\n",
        "      else:\n",
        "          column_data = []  # Default to an empty list if unexpected type\n",
        "      current_pos_tags.update([tag.rsplit('|', 1)[1].strip(\"<>\") for tag in column_data if \"|\" in tag])\n",
        "      sentence_pos_tags.extend(column_data)\n",
        "\n",
        "    st.sidebar.write(generate_filtered_pos_key(current_pos_tags, sentence_pos_tags), unsafe_allow_html=True)\n",
        "\n",
        "    # Parse and clean the Act and Scene data\n",
        "    story_data[\"Scene Number\"] = story_data[\"Scene\"].str.extract(r\"Scene (\\d+)\").astype(int)\n",
        "    story_data[\"Cumulative Scene\"] = story_data[\"Scene Number\"].cumsum()\n",
        "\n",
        "    # Create the plot for cumulative scenes\n",
        "    fig, ax = plt.subplots(figsize=(4, 3))\n",
        "    x = np.arange(len(story_data))\n",
        "    y = story_data[\"Cumulative Scene\"]\n",
        "\n",
        "    ax.plot(x, y, marker=\"o\", label=\"Cumulative Scene\")\n",
        "    ax.set_xlabel(\"Line Number\")\n",
        "    ax.set_ylabel(\"Cumulative Scene Number\")\n",
        "    ax.set_title(\"Cumulative Scene Progression\")\n",
        "\n",
        "    # Highlight the current sentence\n",
        "    current_x = sentence\n",
        "    current_y = story_data.loc[sentence, \"Cumulative Scene\"]\n",
        "    current_scene = story_data.loc[sentence, \"Scene\"]\n",
        "    ax.scatter([current_x], [current_y], color=\"red\", label=f\"Current: {current_scene}\")\n",
        "    ax.annotate(\n",
        "      f\"{current_scene}\",\n",
        "      (current_x, current_y),\n",
        "      textcoords=\"offset points\",\n",
        "      xytext=(0, 10),\n",
        "      ha=\"center\",\n",
        "      color=\"red\",\n",
        "    )\n",
        "\n",
        "    ax.legend()\n",
        "\n",
        "    # Add the plot to the sidebar\n",
        "    st.sidebar.pyplot(fig)\n",
        "\n",
        "#####################################\n",
        "\n",
        "# Display Act and Scene for current sentence\n",
        "act = story_data.loc[sentence, \"Act\"]\n",
        "scene = story_data.loc[sentence, \"Scene\"]\n",
        "st.markdown(f\"#### {act}\")\n",
        "st.markdown(f\"#### {scene}\")\n",
        "\n",
        "# Main section split into four columns\n",
        "col1, col2, col3, col4 = st.columns(4)\n",
        "\n",
        "# Populate Column 1 (Akan)\n",
        "with col1:\n",
        "    st.write(\"### Akan\")\n",
        "    akan_sentence = story_data.iloc[sentence, 0]\n",
        "    akan_pos_tags = story_data.iloc[sentence, 4].split()\n",
        "    styled_akan = style_sentence_with_pos(akan_sentence, akan_pos_tags)\n",
        "    st.markdown(f\"#### {styled_akan}\", unsafe_allow_html=True)\n",
        "\n",
        "# Populate Column 2 (AtoE)\n",
        "with col2:\n",
        "    st.write(\"### AtoE\")\n",
        "    atoe_sentence = story_data.iloc[sentence, 2]\n",
        "    atoe_pos_tags = story_data.iloc[sentence, 6].split()\n",
        "    styled_atoe = style_sentence_with_pos(atoe_sentence, atoe_pos_tags)\n",
        "    st.markdown(f\"#### {styled_atoe}\", unsafe_allow_html=True)\n",
        "\n",
        "# Populate Column 3 (English)\n",
        "with col3:\n",
        "    st.write(\"### English\")\n",
        "    english_sentence = story_data.iloc[sentence, 1]\n",
        "    english_pos_tags = story_data.iloc[sentence, 5].split()\n",
        "    styled_english = style_sentence_with_pos(english_sentence, english_pos_tags)\n",
        "    st.markdown(f\"#### {styled_english}\", unsafe_allow_html=True)\n",
        "\n",
        "# Populate Column 4 (EtoA)\n",
        "with col4:\n",
        "    st.write(\"### EtoA\")\n",
        "    etoa_sentence = story_data.iloc[sentence, 3]\n",
        "    etoa_pos_tags = story_data.iloc[sentence, 7].split()\n",
        "    styled_etoa = style_sentence_with_pos(etoa_sentence, etoa_pos_tags)\n",
        "    st.markdown(f\"#### {styled_etoa}\", unsafe_allow_html=True)\n",
        "\n",
        "#st.write(\"### Dramatic Analysis\")\n",
        "# Display Dramatic Analysis for current sentence\n",
        "dramatic_analysis = story_data.iloc[sentence, 8]\n",
        "st.markdown(f\"#### {dramatic_analysis}\")\n",
        "\n",
        "\"\"\"\n",
        "\n",
        "with open(\"app.py\", \"w\") as file:\n",
        "    file.write(code)"
      ],
      "metadata": {
        "id": "-DKHRzS_yqwh"
      },
      "execution_count": null,
      "outputs": []
    },
    {
      "cell_type": "markdown",
      "source": [
        "### Key Features of Ananse1StreamlitDrama8.ipynb\n",
        "\n",
        "1. **Dynamic GUI for Exploring Folklore**:\n",
        "   - An interactive GUI built using Streamlit allows users to explore and compare folklore stories across multiple languages, including Akan and English.\n",
        "   - Integrated functionality for displaying Part-of-Speech (POS) tags with visually styled formatting enhances linguistic understanding.\n",
        "\n",
        "2. **POS-Tagged Sentence Styling**:\n",
        "   - Sentences are styled dynamically using POS tags with customizable rules for each tag type (e.g., nouns, verbs, adjectives), offering an engaging and educational user experience.\n",
        "\n",
        "3. **Four-Language Parallel Display**:\n",
        "   - The app presents parallel translations across four columns: Akan, Akan-to-English (AtoE), English, and English-to-Akan (EtoA).\n",
        "   - Users can view translations and their POS-tagged versions side-by-side for comparative study.\n",
        "\n",
        "4. **Customizable Story Navigation**:\n",
        "   - A user-friendly sidebar allows selection of story levels (e.g., chapters or sections) and specific sentences within each level.\n",
        "   - Users can explore all parts of the story interactively, selecting levels independently for each language display.\n",
        "\n",
        "5. **Streamlit and Ngrok Integration for Deployment**:\n",
        "   - The app is designed to run seamlessly on Google Colab, with automatic deployment to the web via Ngrok for public access.\n",
        "   - Version control is facilitated by direct integration with GitHub, ensuring reproducibility and collaboration.\n",
        "\n",
        "6. **POS Label Display**:\n",
        "   - The app includes a key for Part-of-Speech (POS) labels, allowing users to reference and better understand the tags applied to sentences.\n",
        "\n",
        "7. **Act and Scene Titles**:\n",
        "   - Act and Scene titles are displayed prominently at the top of the content area, formatted for readability.\n",
        "\n",
        "8. **Navigation Widget**:\n",
        "   - Buttons in the sidebar for \"Previous Line\" and \"Next Line\" enable users to easily browse through the story.\n",
        "\n",
        "9. **Interactive Line Number vs. Scene Plot**:\n",
        "   - A plot in the sidebar highlights the current line with a distinct red marker and updates dynamically as the user navigates.\n",
        "   - The plot provides a visual representation of cumulative scenes against line numbers, enhancing contextual understanding.\n"
      ],
      "metadata": {
        "id": "bQ5xK3-z8O-V"
      }
    },
    {
      "cell_type": "markdown",
      "source": [
        "Key Features:\n",
        "Act and Scene Titles:\n",
        "\n",
        "Act and Scene are displayed on separate lines in a smaller font.\n",
        "Navigation Widget:\n",
        "\n",
        "Buttons in the sidebar for \"Previous Line\" and \"Next Line\".\n",
        "Line Number vs. Campbell Stage Plot:\n",
        "\n",
        "A plot highlights the current line with a distinct red marker."
      ],
      "metadata": {
        "id": "VZkMDkBczDaI"
      }
    },
    {
      "cell_type": "code",
      "execution_count": null,
      "metadata": {
        "id": "v6OA3IBMTCmm"
      },
      "outputs": [],
      "source": [
        "#!streamlit run /usr/local/lib/python3.10/dist-packages/colab_kernel_launcher.py"
      ]
    },
    {
      "cell_type": "markdown",
      "metadata": {
        "id": "KbnLEvC1v37I"
      },
      "source": [
        "### 4. **Run the Streamlit App and Create the Ngrok Tunnel**\n",
        "Now, run the following code to start the Streamlit app and create an ngrok tunnel to access it. Make sure only one instance of Streamlit is running to avoid conflicts."
      ]
    },
    {
      "cell_type": "code",
      "execution_count": null,
      "metadata": {
        "id": "u7pRaaxnxu4J",
        "colab": {
          "base_uri": "https://localhost:8080/"
        },
        "outputId": "05511a5a-345f-4dba-f98b-88ddadc07f1e"
      },
      "outputs": [
        {
          "output_type": "execute_result",
          "data": {
            "text/plain": [
              "<Popen: returncode: None args: ['streamlit', 'run', 'app.py', '--server.port...>"
            ]
          },
          "metadata": {},
          "execution_count": 6
        }
      ],
      "source": [
        "import subprocess\n",
        "# Start Streamlit app on port 8501\n",
        "subprocess.Popen([\"streamlit\", \"run\", \"app.py\", \"--server.port\", \"8501\"])\n"
      ]
    },
    {
      "cell_type": "code",
      "execution_count": null,
      "metadata": {
        "id": "sBrV2lY0x3tQ",
        "colab": {
          "base_uri": "https://localhost:8080/"
        },
        "outputId": "43907a91-fdbc-437b-9d9c-68956c4bbaf5"
      },
      "outputs": [
        {
          "output_type": "stream",
          "name": "stdout",
          "text": [
            "Access the Streamlit app at: NgrokTunnel: \"https://eeac-34-141-209-176.ngrok-free.app\" -> \"http://localhost:8501\"\n"
          ]
        }
      ],
      "source": [
        "from pyngrok import ngrok\n",
        "\n",
        "# Start a single ngrok tunnel to port 8501\n",
        "url = ngrok.connect(8501)\n",
        "print(f\"Access the Streamlit app at: {url}\")\n"
      ]
    },
    {
      "cell_type": "markdown",
      "metadata": {
        "id": "-72bKwrgzR-0"
      },
      "source": [
        "###**Step 5: Confirm Streamlit is Running on Port 8501**\n",
        "To verify that the Streamlit app is accessible, run:"
      ]
    },
    {
      "cell_type": "code",
      "execution_count": null,
      "metadata": {
        "id": "u0dfqZL2zyXy",
        "colab": {
          "base_uri": "https://localhost:8080/"
        },
        "outputId": "45291bfc-6754-42a1-8498-f3211556fba7"
      },
      "outputs": [
        {
          "output_type": "stream",
          "name": "stdout",
          "text": [
            "curl: (7) Failed to connect to localhost port 8501 after 0 ms: Connection refused\n"
          ]
        }
      ],
      "source": [
        "!curl -I http://localhost:8501\n"
      ]
    },
    {
      "cell_type": "markdown",
      "metadata": {
        "id": "ri6SF0JKz8o1"
      },
      "source": [
        "If Streamlit is running correctly, this command should show a response. If there’s an error, check if the Streamlit app has started correctly in the cell above.\n",
        "\n",
        "###**Important Notes:**\n",
        "\n",
        "*   Avoid running multiple cells that initiate ngrok simultaneously, as this will exceed the session limit.\n",
        "*   If you still face issues, go to the ngrok dashboard to terminate any active sessions before starting a new one in Colab.\n",
        "\n",
        "\n",
        "."
      ]
    }
  ],
  "metadata": {
    "colab": {
      "provenance": []
    },
    "kernelspec": {
      "display_name": "Python 3",
      "name": "python3"
    },
    "language_info": {
      "name": "python"
    }
  },
  "nbformat": 4,
  "nbformat_minor": 0
}